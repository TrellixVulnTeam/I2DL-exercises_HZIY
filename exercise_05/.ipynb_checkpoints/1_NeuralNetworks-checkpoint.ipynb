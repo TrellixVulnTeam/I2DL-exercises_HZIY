{
 "cells": [
  {
   "cell_type": "markdown",
   "metadata": {},
   "source": [
    "# Neural Networks and CIFAR10 Classification\n",
    "\n",
    "In the previous assignment you've taken a closer look to the binary classification scenario as well as the common steps that are shared between almost all deep learning projects, the so called solver, using a simple logistic regression setup.\n",
    "\n",
    "In this exercise, we will first take a closer look on the model side. In particular, you will implement self-contained building blocks that allow us to build complex models with ease. Afterwards, we will tackle the full pipeline once again, using new knowledge from our lectures to solve a more tricky task, i.e., general/non-binary classification. In particular, we will be using the CIFAR10 dataset that you developed in exercise 3 though we have to make some changes on the optimization and loss side in comparison to your toy example in exercise 4. \n",
    "\n",
    "The notebook is quite long but there are not too many implementation tasks. More often we implemented certain aspects for you to showcase some nice features but you should also look at our implementations to see the specific details. For a first pass however, you can choose to ditch those and focus on the blue boxes. \n",
    "\n",
    "Let's get started!\n",
    "\n",
    "<img src=\"./images/2-layer-nn.png\">"
   ]
  },
  {
   "cell_type": "code",
   "execution_count": 1,
   "metadata": {},
   "outputs": [],
   "source": [
    "# As usual, a bit of setup\n",
    "import matplotlib.pyplot as plt\n",
    "import numpy as np\n",
    "import os\n",
    "\n",
    "from exercise_code.data import (\n",
    "    DataLoader,\n",
    "    ImageFolderDataset,\n",
    "    RescaleTransform,\n",
    "    NormalizeTransform,\n",
    "    FlattenTransform,\n",
    "    ComposeTransform,\n",
    ")\n",
    "from exercise_code.networks import (\n",
    "    ClassificationNet,\n",
    "    CrossEntropyFromLogits\n",
    ")\n",
    "from exercise_code.tests.layer_tests import *\n",
    "from exercise_code.tests.sgdm_tests import *\n",
    "\n",
    "from exercise_code.solver import Solver\n",
    "from exercise_code.networks.optimizer import (\n",
    "    SGD,\n",
    "    SGDMomentum,\n",
    "    Adam\n",
    ")\n",
    "from exercise_code.networks.compute_network_size import *\n",
    "\n",
    "%load_ext autoreload\n",
    "%autoreload 2\n",
    "%matplotlib inline\n",
    "\n",
    "plt.rcParams['figure.figsize'] = (10.0, 8.0) # set default size of plots\n",
    "plt.rcParams['image.interpolation'] = 'nearest'\n",
    "plt.rcParams['image.cmap'] = 'gray'"
   ]
  },
  {
   "cell_type": "markdown",
   "metadata": {},
   "source": [
    "# 1. Neural Network Models\n",
    "\n",
    "In `Exercise 4` you have already defined and implemented your first model. In order to understand the required building parts, it is important that re-visit this structure as we intent to develop our model definition from there."
   ]
  },
  {
   "cell_type": "markdown",
   "metadata": {},
   "source": [
    "<div class=\"alert alert-success\">\n",
    "    <h3>Task: Check Code</h3>\n",
    "    <p>Please re-read your implementation (in particular the necessary functions and variables) of our classifier class in Exercise 4 in <code>../exercise_04/exercise_code/networks/classifier.py</code>. </p>\n",
    "</div>"
   ]
  },
  {
   "cell_type": "markdown",
   "metadata": {},
   "source": [
    "In particular, we defined three important components:\n",
    "- `__init__` and `initialize_weights`: that setup our classifier class, in particular we set up the weight matrix values here which we used for our logistic regression network\n",
    "- `forward`: that takes an input, **caches that input** and uses that input\n",
    "- `backward`: that computes gradient updates for our trained weight matrix\n",
    "\n",
    "\n",
    "## 1.1 Modularization\n",
    "\n",
    "The model you have implemented in `Exercise 4` was quite simple in nature, but if you would have to define multiple linear layer setups etc. it would get tricky quite quickly. Luckily, the lecture already provides us with a pleasent surprise that enables us to modularize the whole concepts of neural networks: the chain rule!\n",
    "\n",
    "<img src=\"./images/chainrule.png\">\n",
    "\n",
    "Same as the displayed image above, this fact is huge! It is the cornerstone of modern deep neural network building. Since, if we want to chain multiple linear layers (together with some auxiliary layers such as non-linearities) together, we have to compute their respective derivatives in order to update their weight matrices. However, thanks to the chain rule, we can create small building blocks that\n",
    "- in the `forward` pass do all required computations as well as save all values that are required to compute gradients and\n",
    "- in the `backward` function they will use the incoming gradients from later building blocks, to compute their respective gradients using their cached values.\n",
    "\n",
    "And therefore, we can just simply chain an arbitrary amount of such blocks, so called `layers`, together to create any structure we so desire (and finally which our hardware supports). Here is a more detailed code overview what we have to implement for those two passes:\n",
    "\n",
    "```python\n",
    "def layer_forward(x, w):\n",
    "  \"\"\" Receive inputs x and weights w \"\"\"\n",
    "  # Do some computations ...\n",
    "  z = # ... some intermediate value\n",
    "  # Do some more computations ...\n",
    "  out = # the output\n",
    "\n",
    "  cache = (x, w, z, out) # Values we need to compute gradients\n",
    "\n",
    "  return out, cache\n",
    "```\n",
    "\n",
    "and\n",
    "\n",
    "```python\n",
    "def layer_backward(dout, cache):\n",
    "  \"\"\"\n",
    "  Receive derivative of loss with respect to outputs and cache,\n",
    "  and compute derivative with respect to inputs.\n",
    "  \"\"\"\n",
    "  # Unpack cache values\n",
    "  x, w, z, out = cache\n",
    "\n",
    "  # Use values in cache to compute derivatives\n",
    "  dx = # Derivative of loss with respect to x\n",
    "  dw = # Derivative of loss with respect to w\n",
    "\n",
    "  return dx, dw\n",
    "```\n",
    "\n",
    "To check the correctness of your implementations below, we will again use numeric gradient checking\n",
    "\n",
    "$$ \\frac {df(x)}{dx} = \\frac{f(x+h) - f(x-h)}{2h} $$\n",
    "\n",
    "to compute values for layer outputs for your backward passees."
   ]
  },
  {
   "cell_type": "markdown",
   "metadata": {},
   "source": [
    "## 1.2 Layer Example: Non-Linearities\n",
    "\n",
    "One of the simplest layers are non-linearities. They don't require any initial setup and we can easily write down their forward and backward passes.\n",
    "\n",
    "### Sigmoid\n",
    "\n",
    "Sigmoid is one of the oldest used non-linearities. You already implemented it in the last exercise together with other layers. For reference, here is the mathematical formula:\n",
    "$$Sigmoid(x) = \\frac{1}{1 + exp(-x)}$$\n",
    "and its activation graph\n",
    "\n",
    "<img src=https://pytorch.org/docs/stable/_images/Sigmoid.png alt=\"Figure4\" width=\"400\"/>\n",
    "\n",
    "<div class=\"alert alert-info\">\n",
    "    <h3>Task: Implement</h3>\n",
    "    <p>Open the file <code>exercise_code/networks/layer.py</code>. Implement the <code>forward</code> and the <code>backward</code> method in the <code>Sigmoid</code> class, and test your implementation by running the following cell.\n",
    "    </p>\n",
    "</div>"
   ]
  },
  {
   "cell_type": "code",
   "execution_count": 35,
   "metadata": {},
   "outputs": [
    {
     "name": "stdout",
     "output_type": "stream",
     "text": [
      "(10, 10)\n",
      "(10, 10)\n",
      "SigmoidForwardTest passed.\n",
      "SigmoidBackwardTest passed.\n",
      "Congratulations you have passed all the unit tests!!! Tests passed: 2/2\n",
      "Score: 100/100\n",
      "You secured a score of :100\n"
     ]
    }
   ],
   "source": [
    "# Test your sigmoid implementation\n",
    "print(SigmoidTestWrapper()())"
   ]
  },
  {
   "cell_type": "markdown",
   "metadata": {},
   "source": [
    "### Relu\n",
    "\n",
    "Rectified Linear Units are the currently most used non-linearities in deep learning. They are not without flaws though they solve some issues introduced by non-linearities such as sigmoid above. Here is the formula\n",
    "$$ReLU(x) = max(0, x)$$\n",
    "and its clean graph\n",
    "<img src=https://pytorch.org/docs/stable/_images/ReLU.png alt=\"Figure2\" width=\"400\"/>\n",
    "<div class=\"alert alert-info\">\n",
    "    <h3>Task: Implement</h3>\n",
    "    <p>Open the file <code>exercise_code/networks/layer.py</code>. Implement the <code>forward</code> and the <code>backward</code> method in the <code>Relu</code> class, and test your implementation by running the following cell.\n",
    "    </p>\n",
    "</div>"
   ]
  },
  {
   "cell_type": "code",
   "execution_count": 37,
   "metadata": {},
   "outputs": [
    {
     "name": "stdout",
     "output_type": "stream",
     "text": [
      "ReluForwardTest passed.\n",
      "ReluBackwardTest passed.\n",
      "Congratulations you have passed all the unit tests!!! Tests passed: 2/2\n",
      "Score: 100/100\n",
      "You secured a score of :100\n"
     ]
    }
   ],
   "source": [
    "# Test your ReLu implementation\n",
    "print(ReluTestWrapper()())"
   ]
  },
  {
   "cell_type": "markdown",
   "metadata": {},
   "source": [
    "## 1.3 Affine Layers\n",
    "\n",
    "Our two layers above have no trainable weights and would make a poor network. As discussed in the lecture, Neural Networks use so called affine or liner layers that each have a learnable weight matrix which we optimize in our training process.\n",
    "\n",
    "We deviate from our narrative here a little bit and focus our implementation efforts on the forward and backward passes of linear layers. Later on, you will encounter them in Pytorch again. There, they fully modularize those which makes network creation much simpler for the consumer/non-implementer ;).\n",
    "\n",
    "An affine layer computes a function of\n",
    "\n",
    "$$\\mathbf{z} = \\mathbf{W} \\mathbf{x} + \\mathbf{b}$$\n",
    "\n",
    "where $W$ is our learnable weight matrix.\n",
    "\n",
    "<div class=\"alert alert-info\">\n",
    "    <h3>Task: Implement</h3>\n",
    "    <p>Open the file <code>exercise_code/networks/layer.py</code>. Implement the <code>affine_forward</code> and the <code>affine_backward</code> function and test your implementation by running the following cell.\n",
    "    </p>\n",
    "</div>"
   ]
  },
  {
   "cell_type": "code",
   "execution_count": 81,
   "metadata": {},
   "outputs": [
    {
     "name": "stdout",
     "output_type": "stream",
     "text": [
      "(5,)\n",
      "(5,)\n",
      "(5,)\n",
      "AffineForwardTest passed.\n",
      "AffineBackwardTestDx passed.\n",
      "AffineBackwardTestDw passed.\n",
      "AffineBackwardTestDb passed.\n",
      "Congratulations you have passed all the unit tests!!! Tests passed: 4/4\n",
      "Score: 100/100\n",
      "You secured a score of :100\n"
     ]
    }
   ],
   "source": [
    "# Test your affine layer implementations\n",
    "print(AffineTestWrapper()())"
   ]
  },
  {
   "cell_type": "markdown",
   "metadata": {},
   "source": [
    "## 1.4 N-layer Classification Network\n",
    "\n",
    "Now that you have all necessary building blocks, you can build up your first neural network model. However, as stated above, we have omitted some details in the initialization of said network. We advise you to take a look at our network implementation to get a feel how everything is computed.\n",
    "\n",
    "<div class=\"alert alert-success\">\n",
    "    <h3>Task: Check Code</h3>\n",
    "    <p>Please check the implementation in <code>exercise_code/networks/classification_net.py</code>.\n",
    " </p>\n",
    "</div>\n",
    "\n",
    "We can then simply call the network as shown below in the case of a rather small two layer network using two linear layers of size $128$ as well as Relu non-linearities inbetween."
   ]
  },
  {
   "cell_type": "code",
   "execution_count": 82,
   "metadata": {},
   "outputs": [
    {
     "name": "stdout",
     "output_type": "stream",
     "text": [
      "Model output shape: (1, 3)\n"
     ]
    }
   ],
   "source": [
    "# Define a dummy input\n",
    "test_input = np.random.randn(1, 10)   # (batch_size, input_size)\n",
    "\n",
    "# Define a test model\n",
    "test_model = ClassificationNet(input_size=10, \n",
    "                               hidden_size=128,\n",
    "                               activation=Relu(), \n",
    "                               num_layer=2, \n",
    "                               num_classes=3)\n",
    "\n",
    "# Compute output\n",
    "model_output = test_model.forward(test_input)\n",
    "print('Model output shape:', model_output.shape)"
   ]
  },
  {
   "cell_type": "markdown",
   "metadata": {},
   "source": [
    "# 2. CIFAR10 Dataset\n",
    "\n",
    "Great! Now that we modularized our layers and are able to build any networks based of linear layers as well as non-linearities, let's start checking out our data again!\n",
    "\n",
    "Let us first do some setup to be back at our state of after completing exercise 3."
   ]
  },
  {
   "cell_type": "code",
   "execution_count": 83,
   "metadata": {},
   "outputs": [],
   "source": [
    "# Define output path similar to exercise 3\n",
    "i2dl_exercises_path = os.path.dirname(os.path.abspath(os.getcwd()))\n",
    "cifar_root = os.path.join(i2dl_exercises_path, \"datasets\", \"cifar10\")\n",
    "\n",
    "# Dictionary so that we can convert label indices to actual label names\n",
    "classes = [\n",
    "    'plane', 'car', 'bird', 'cat', 'deer',\n",
    "    'dog', 'frog', 'horse', 'ship', 'truck',\n",
    "]\n",
    "\n",
    "# Simply call dataset class\n",
    "dataset = ImageFolderDataset(\n",
    "        root=cifar_root\n",
    "    )"
   ]
  },
  {
   "cell_type": "markdown",
   "metadata": {},
   "source": [
    "Now we can set up a dataset iterate over it and visualize images as well as labels easily just like that."
   ]
  },
  {
   "cell_type": "code",
   "execution_count": 84,
   "metadata": {},
   "outputs": [
    {
     "name": "stdout",
     "output_type": "stream",
     "text": [
      "Sample 0\n",
      "image shape: (32, 32, 3)\n",
      "label: bird\n",
      "Sample 1\n",
      "image shape: (32, 32, 3)\n",
      "label: cat\n",
      "Sample 2\n",
      "image shape: (32, 32, 3)\n",
      "label: truck\n",
      "\n",
      "Sample images\n"
     ]
    },
    {
     "data": {
      "image/png": "[encoded data removed]",
      "text/plain": [
       "<Figure size 432x288 with 3 Axes>"
      ]
     },
     "metadata": {
      "needs_background": "light"
     },
     "output_type": "display_data"
    }
   ],
   "source": [
    "num_images = 3\n",
    "\n",
    "for i in range(num_images):\n",
    "    item = dataset[i]\n",
    "    image = item['image']\n",
    "    label = item['label']\n",
    "    \n",
    "    # Print shape and label\n",
    "    print('Sample {}\\nimage shape: {}\\nlabel: {}'.format(\n",
    "        i, image.shape, classes[label]))\n",
    "    \n",
    "    # Visualize image\n",
    "    plt.subplot(1, num_images, 1 + i)\n",
    "    plt.imshow(image.astype('uint8'))\n",
    "\n",
    "print('\\nSample images')\n",
    "plt.show()"
   ]
  },
  {
   "cell_type": "markdown",
   "metadata": {},
   "source": [
    "Cool. We basically are done at this point bar transforms. In exercise 3 we made sure to normalize our images so we should do it here as well.\n",
    "\n",
    "However, we also have to consider our network to accomodate the dataset output to our network input. In our case, we require a one dimensional input vector. The simplest way to realize this is to flatten the vector which we do so by an additional transform and compose all of them together such as described below."
   ]
  },
  {
   "cell_type": "code",
   "execution_count": 85,
   "metadata": {},
   "outputs": [],
   "source": [
    "# Use the Cifar10 mean and standard deviation computed in Exercise 3.\n",
    "cifar_mean = np.array([0.49191375, 0.48235852, 0.44673872])\n",
    "cifar_std  = np.array([0.24706447, 0.24346213, 0.26147554])\n",
    "\n",
    "# Define all the transforms we will apply on the images when \n",
    "# retrieving them.\n",
    "rescale_transform = RescaleTransform()\n",
    "normalize_transform = NormalizeTransform(\n",
    "    mean=cifar_mean,\n",
    "    std=cifar_std\n",
    ")\n",
    "\n",
    "# Add the new flatten transform\n",
    "flatten_transform = FlattenTransform()\n",
    "\n",
    "# And string them together\n",
    "compose_transform = ComposeTransform([\n",
    "    rescale_transform, \n",
    "    normalize_transform,\n",
    "    flatten_transform\n",
    "])"
   ]
  },
  {
   "cell_type": "markdown",
   "metadata": {},
   "source": [
    "Now, our outputs are sufficiently resized and we can apply our transforms on initializing our dataset. \n",
    "\n",
    "Before testing any deep learning pipeline, you should overfit on a small sample first which will be our goal for this notebook: we only take $1\\%$ (or 500 images) of our training data to overfit on later and set up our dataset and dataloader accordingly."
   ]
  },
  {
   "cell_type": "code",
   "execution_count": 86,
   "metadata": {},
   "outputs": [
    {
     "name": "stdout",
     "output_type": "stream",
     "text": [
      "Dataset size: 500\n",
      "Dataloader size: 62\n"
     ]
    }
   ],
   "source": [
    "# Create a dataset and dataloader\n",
    "batch_size = 8\n",
    "\n",
    "dataset = ImageFolderDataset(\n",
    "    mode='train',\n",
    "    root=cifar_root,\n",
    "    transform=compose_transform,\n",
    "    split={'train': 0.01, 'val': 0.2, 'test': 0.79}\n",
    ")\n",
    "    \n",
    "dataloader = DataLoader(\n",
    "    dataset=dataset,\n",
    "    batch_size=batch_size,\n",
    "    shuffle=True,\n",
    "    drop_last=True,\n",
    ")\n",
    "\n",
    "print('Dataset size:', len(dataset))\n",
    "print('Dataloader size:', len(dataloader))"
   ]
  },
  {
   "cell_type": "markdown",
   "metadata": {},
   "source": [
    "Let's do a quick check if the image input is sufficient. An image should be a single array of size 3*32*32 and we should have `batch_size` of them per batch."
   ]
  },
  {
   "cell_type": "code",
   "execution_count": 87,
   "metadata": {},
   "outputs": [
    {
     "name": "stdout",
     "output_type": "stream",
     "text": [
      "Batch 0 image shape: (8, 3072)\n",
      "Batch 1 image shape: (8, 3072)\n",
      "Batch 2 image shape: (8, 3072)\n"
     ]
    }
   ],
   "source": [
    "num_batches = 3\n",
    "\n",
    "for i, item in enumerate(dataloader):\n",
    "    image_batch = item['image']\n",
    "    print('Batch {} image shape: {}'.format(i, image_batch.shape))\n",
    "    \n",
    "    if i >= num_batches-1:\n",
    "        break"
   ]
  },
  {
   "cell_type": "markdown",
   "metadata": {},
   "source": [
    "Ok, now we have to define a network that can work with those inputs. For simplicity, we are starting with a small two-layer neural network with two hidden layers of size 128."
   ]
  },
  {
   "cell_type": "code",
   "execution_count": 88,
   "metadata": {},
   "outputs": [
    {
     "name": "stdout",
     "output_type": "stream",
     "text": [
      "Input size: 3072\n"
     ]
    }
   ],
   "source": [
    "# First get dataset entry for our network input size\n",
    "sample_image = dataset[0]['image']\n",
    "\n",
    "input_size = sample_image.shape[0]\n",
    "print('Input size:', input_size)\n",
    "\n",
    "# Define our model\n",
    "model = ClassificationNet(input_size=input_size, \n",
    "                          hidden_size=128,\n",
    "                          activation=Relu(), \n",
    "                          num_layer=2, \n",
    "                          num_classes=10)"
   ]
  },
  {
   "cell_type": "markdown",
   "metadata": {},
   "source": [
    "Similarly to above we can use our dataloader to iterate over the dataloader and now apply our network on each batch:"
   ]
  },
  {
   "cell_type": "code",
   "execution_count": 89,
   "metadata": {},
   "outputs": [
    {
     "name": "stdout",
     "output_type": "stream",
     "text": [
      "Batch 0 output shape (8, 10)\n",
      "Batch 1 output shape (8, 10)\n",
      "Batch 2 output shape (8, 10)\n"
     ]
    }
   ],
   "source": [
    "# Iterate over the network using our dataloader\n",
    "for i, item in enumerate(dataloader):\n",
    "    images = item['image']\n",
    "    \n",
    "    output = model.forward(images)\n",
    "    \n",
    "    print('Batch {} output shape {}'.format(i, output.shape))\n",
    "    if i >= num_batches-1:\n",
    "        break"
   ]
  },
  {
   "cell_type": "markdown",
   "metadata": {},
   "source": [
    "Great, let's move on.\n",
    "\n",
    "# 3. Cross-Entropy/Softmax Loss from Logits\n",
    "\n",
    "There is still something left to fix before we can start though. In exercise 4 you tackled a binary problem. However, CIFAR10 consists of 10 classes. Therefore, we can't just simply use a binary objective function. Luckily, we can generalize our Binary Cross-Entropy Loss from exercise 4.\n",
    "\n",
    "<div class=\"alert alert-warning\">\n",
    "    <h3>Note: Softmax Loss</h3>\n",
    "    <p>This usually confuses people: in literature the general <b>Cross-Entropy</b> Loss is often simply called <b>Softmax Loss</b>, due to the Softmax activation function.\n",
    "         </p>\n",
    "</div>"
   ]
  },
  {
   "cell_type": "markdown",
   "metadata": {},
   "source": [
    "## Definition\n",
    "\n",
    "$$ CE(\\hat{y}, y) = \\frac{1}{N} \\sum_{i=1}^N \\sum_{k=1}^{C} \\Big[ -y_{ik} \\log(\\hat{y}_{ik}) \\Big] $$\n",
    "\n",
    "where:\n",
    "- $ N $ is again the number of samples\n",
    "- $ C $ is the number of classes\n",
    "- $ \\hat{y}_{ik} $ is the probability that the model assigns for the $k$th class when the $i$th sample is the input. \n",
    "- $y_{ik} = 1 $ iff the true label of the $i$th sample is $k$ and 0 otherwise. This is called a [one-hot encoding](https://machinelearningmastery.com/why-one-hot-encode-data-in-machine-learning/).\n",
    "\n",
    "<div class=\"alert alert-success\">\n",
    "    <h3>Task: Check Formula</h3>\n",
    "    <p>Check for yourself that when the number of classes $ C $ is 2, then binary cross-entropy is actually equivalent to cross-entropy.</p>\n",
    "</div>\n",
    "\n",
    "## From Logits\n",
    "\n",
    "If we are not applying an activation function on the last layer of our network, its outputs for each sample will not be a valid probability distribution over the classes. We call these raw outputs of the network '[logits](https://datascience.stackexchange.com/questions/31041/what-does-logits-in-machine-learning-mean/31045)' and we will apply a [softmax](https://en.wikipedia.org/wiki/Softmax_function) activation in order to obtain a valid \"probability distribution\".\n",
    "\n",
    "## Implementation\n",
    "We implemented the general formulation for you. There are some details you should check out:\n",
    "\n",
    "### Numerical Stability\n",
    "First check out the computation of the softmax itself. Recall that \n",
    "$$softmax(x)=\\sigma(x)=\\frac{e^{x_i}}{\\sum_{i=1}^ne^{x_i}}$$\n",
    "for a vector $x=(x_i)_{(1\\leq i\\leq n)}\\in\\mathbb{R}^n$.\n",
    "However, the sum in the divisor is problematic when using floating point numbers as the resulting fraction can be too small to be accurately represented and yield numerical instabilities.\n",
    "\n",
    "One solution would be to instead consider\n",
    "$$\\sigma(x-\\max_{1\\leq i\\leq n}x_i)$$\n",
    "\n",
    "which ensures that our divisor is small enough to avoid numerical instabilities.\n",
    "\n",
    "<div class=\"alert alert-success\">\n",
    "    <h3>Task: Proof</h3>\n",
    "    <p>Think about why this solves the numerical stability problem and prove that $\\sigma(x)=\\sigma(x+c)$ for any constant vector $c\\in\\mathbb{R}^n$.</p>\n",
    "</div>\n",
    "\n",
    "With that proof, we can simply switch out the softmax computation with the new vector above and avoid numberical instabilities.\n",
    "\n",
    "### Matrix Notation\n",
    "\n",
    "In order to implement the whole procedure efficiently, we use numpy to evaluate the whole batch computation. This is non-trivial, though we implement it for you in this notebook such that you can save time. We highly urge you, however, to think about the implementation for yourself first and then check out our implementation of the crossentropy loss, including its backward pass.\n",
    "\n",
    "<div class=\"alert alert-success\">\n",
    "    <h3>Task: Check Code</h3>\n",
    "    <p>Check the implemenation of the Softmax Loss under <code>exercise_code/networks/loss/CrossEntropyFromLogits</code> including the backward pass and think through it yourself to understand the matrix operations. Finally, compare it to the binary cross-entropy implementation in the same file or your previous implementation from last week.</p>\n",
    "</div>\n",
    "\n",
    "### Sanity Check\n",
    "\n",
    "Let's quickly check if our loss formulation works as intended. Let's compute the loss of a random vector from our network defined above."
   ]
  },
  {
   "cell_type": "code",
   "execution_count": 90,
   "metadata": {},
   "outputs": [
    {
     "name": "stdout",
     "output_type": "stream",
     "text": [
      "Loss of single image sample: 2.3025235137032287\n"
     ]
    }
   ],
   "source": [
    "# Set up loss\n",
    "loss_func = CrossEntropyFromLogits()\n",
    "\n",
    "# Sample input from a single image\n",
    "sample_image = dataset[0]['image']\n",
    "sample_label = dataset[0]['label']\n",
    "single_image_batch = np.expand_dims(sample_image, 0)\n",
    "single_label_batch = np.expand_dims(sample_label, 0)\n",
    "\n",
    "# Feed forward using our network\n",
    "model_output = model.forward(single_image_batch)\n",
    "\n",
    "# Loss computation\n",
    "computed_loss, _ = loss_func(model_output, single_label_batch)\n",
    "print('Loss of single image sample:', computed_loss)"
   ]
  },
  {
   "cell_type": "markdown",
   "metadata": {},
   "source": [
    "<div class=\"alert alert-success\">\n",
    "    <h3>Task: Reason</h3>\n",
    "    <p>Why do we expect our loss to be close to -log(0.1)? Explain briefly.</p>\n",
    "</div>"
   ]
  },
  {
   "cell_type": "markdown",
   "metadata": {},
   "source": [
    "# 4. Optimization\n",
    "\n",
    "We are nearly there yet. The final piece of our pipeline is to define our optimization method. In this week's lecture, you've seen a variety of possibilities at which we should take a look now.\n",
    "\n",
    "## 4.1 Gradient Descent vs Stochastic Gradient Descent\n",
    "\n",
    "For demonstration sake, let us compute the memory required to do a full gradient descent update on our small CIFAR10 dataset consisting of 500000 images."
   ]
  },
  {
   "cell_type": "code",
   "execution_count": 91,
   "metadata": {},
   "outputs": [],
   "source": [
    "# Define our model again\n",
    "model = ClassificationNet(input_size=input_size, \n",
    "                          hidden_size=128,\n",
    "                          activation=Relu(), \n",
    "                          num_layer=2, \n",
    "                          num_classes=10)"
   ]
  },
  {
   "cell_type": "markdown",
   "metadata": {},
   "source": [
    "In order to do so, we have to calculate the forward caches as well as the computed gradients for each update step. Before we go into details of actual update methods, let us compute those manually.\n",
    "\n",
    "<div class=\"alert alert-warning\">\n",
    "    <h3>Optional: Compute Network Size</h3>\n",
    "    <p>Our network itself is quite small, as a quick check you can compute the size of the network defined above yourself by summing up all network weights. Compare them against the values computed below.</p>\n",
    "</div>\n",
    "\n",
    "A more challenging task is to calculate the memory required to compute one network forward pass. Lets just quickly do this for a small batch with our small model. In order to populate the forward caches, we have to make a forward pass using a batch."
   ]
  },
  {
   "cell_type": "code",
   "execution_count": null,
   "metadata": {},
   "outputs": [],
   "source": [
    "# Set up loss\n",
    "loss_func = CrossEntropyFromLogits()\n",
    "\n",
    "# Get a random batch of our dataloader with batch_size 8\n",
    "sample_batch = iter(dataloader).__next__()\n",
    "sample_images = sample_batch['image']\n",
    "sample_labels = sample_batch['label']\n",
    "\n",
    "# Compute model output\n",
    "model_output = model.forward(sample_images)"
   ]
  },
  {
   "cell_type": "markdown",
   "metadata": {},
   "source": [
    "Since we are always saving our inputs for each of our layers (in order to be able to backpropagate using them later) we amass quite a lot of values for our forward pass using 8 images. We've implemented a way to calculate those in bytes and you should check out this implementation as well as the network background why \n",
    "\n",
    "Using said function, we can calculate the network size as shown below:"
   ]
  },
  {
   "cell_type": "code",
   "execution_count": null,
   "metadata": {},
   "outputs": [],
   "source": [
    "num_bytes = compute_network_pass_size(model)\n",
    "\n",
    "print('\\nTotal number of bytes used by network for batch:', GetHumanReadable(num_bytes))"
   ]
  },
  {
   "cell_type": "markdown",
   "metadata": {},
   "source": [
    "Ok, 3MB is not too shabby but also not a crazy high number. Your memory should easily handle it. However, we still have to add the memory required for the backward pass. In order to do so, we have to populate the gradients. Above you can see that those are only 24 bytes in size and that is because they are empty. Let's change that by doing one backward pass manually."
   ]
  },
  {
   "cell_type": "code",
   "execution_count": null,
   "metadata": {},
   "outputs": [],
   "source": [
    "# 1. Compute loss\n",
    "_ = loss_func.forward(model_output, sample_labels)\n",
    "# 2. Compute loss gradients\n",
    "dout = loss_func.backward(model_output, sample_labels)\n",
    "# 3. Backpropagate gradients through model\n",
    "_ = model.backward(dout)\n",
    "\n",
    "# Now calculate bytes again\n",
    "num_bytes = compute_network_pass_size(model)\n",
    "\n",
    "print('\\nTotal number of bytes used by network for batch:', GetHumanReadable(num_bytes))"
   ]
  },
  {
   "cell_type": "markdown",
   "metadata": {},
   "source": [
    "<div class=\"alert alert-warning\">\n",
    "    <h3>Optional: Check Code</h3>\n",
    "    <p>Check our implementation to compute the size of a network forward pass in bytes in <code>exercise_code/networks/compute_network_size.py</code>, which simply sums up the caches values as well as gradients. You should also think about how and why those caches/gradients are populated using the steps above.</p>\n",
    "</div>\n",
    "\n",
    "Nice! That is the amount of memory required to do a full training forward and backward pass using our small batch. \n",
    "\n",
    "However, if we wanted to compute the memory required to do a full gradient update for the CIFAR10 dataset using our small network, you'd need..."
   ]
  },
  {
   "cell_type": "code",
   "execution_count": null,
   "metadata": {},
   "outputs": [],
   "source": [
    "# A current batch consists of 8 images. The whole dataset would require 50000/8 times the amount of memory\n",
    "num_bytes = num_bytes * 50000 / 8\n",
    "\n",
    "print('Total number of bytes used by network for the whole dataset', GetHumanReadable(num_bytes))"
   ]
  },
  {
   "cell_type": "markdown",
   "metadata": {},
   "source": [
    "And that is the case why we usually have to use stochastic approaches to train neural networks :). For smaller tasks however, you can not only use regular gradient descent but also second order optimization approaches. For more info about those we refer to the lecture."
   ]
  },
  {
   "cell_type": "markdown",
   "metadata": {},
   "source": [
    "## 4.2 SGD\n",
    "\n",
    "We start off with plain Stochastic Gradient Descent (SGD) which we implemented for you.\n",
    "\n",
    "Now that we have an optimizer, we can execute the full pipeline using our pre-written solver which is similar to the one you wrote in the previous exercise.\n",
    "\n",
    "<div class=\"alert alert-warning\">\n",
    "    <h3>Note: Good Practice</h3>\n",
    "    <p>Always, always, always when starting a new project or defining a new network: <b>overfit on a small set first and then generalize</b>. The 500 images we are using here are already too many sample for most cases. Start with a single sample, then 10 and finally a few hundred. Don't cheap out on this step! More often, your network will fail to generalize properly and you have to first know if it has enough capacity to overfit and that the full training pipeline is working!</p>\n",
    "    <p>In order to run these experiments, you don't necessarily need a validation set. Just a few training samples are enough to make those checks!</p>\n",
    "</div>"
   ]
  },
  {
   "cell_type": "code",
   "execution_count": null,
   "metadata": {},
   "outputs": [],
   "source": [
    "# Redefine model and loss function\n",
    "model = ClassificationNet(input_size=input_size, \n",
    "                          hidden_size=128,\n",
    "                          activation=Relu(), \n",
    "                          num_layer=2, \n",
    "                          num_classes=10)\n",
    "\n",
    "loss_func = CrossEntropyFromLogits()"
   ]
  },
  {
   "cell_type": "code",
   "execution_count": null,
   "metadata": {},
   "outputs": [],
   "source": [
    "learning_rate = 1e-1\n",
    "\n",
    "# We use our training dataloader for validaton as well as testing\n",
    "solver = Solver(model, dataloader, dataloader, \n",
    "                learning_rate=learning_rate, loss_func=loss_func, optimizer=SGD)\n",
    "\n",
    "# This might take a while depending on your hardware. When in doubt: use google colab\n",
    "solver.train(epochs=20)"
   ]
  },
  {
   "cell_type": "markdown",
   "metadata": {},
   "source": [
    "## 4.3 SGD + Momentum\n",
    "\n",
    "As you can see, the loss is going down smoothly which indicates that we are easily overfitting. Great. However, plain SGD is rarely used in practice (as it is usually too slow) which is why we will focus on implementing SGD+Momentum now, which is a straightforward extension to SGD.\n",
    "\n",
    "Recall that its update rule is defined by:\n",
    "\n",
    "$$ v^{k+1} = \\beta v^{k} - \\alpha \\nabla_{\\theta} L (\\theta^{k}),$$\n",
    "$$ \\theta^{k+1} = \\theta^{k} + v^{k+1}.$$\n",
    "\n",
    "<div class=\"alert alert-info\">\n",
    "    <h3>Task: Check Code and Implement </h3>\n",
    "    <p>Familiarize yourself with the SGD implementation in <code>exercise_code/networks/optimizer.py</code> as well as our general optimization class structure.</p>\n",
    "    <p> Then, implement the <code>SGDMomentum._update</code> function which is very similar to the update rule of SGD above.\n",
    "</div>"
   ]
  },
  {
   "cell_type": "code",
   "execution_count": null,
   "metadata": {},
   "outputs": [],
   "source": [
    "#Test your SGD momentum implementations\n",
    "print(SGDMTestWrapper()())"
   ]
  },
  {
   "cell_type": "markdown",
   "metadata": {},
   "source": [
    "## 4.4 Adam\n",
    "\n",
    "There are a variety of updates that people have suggested for SGD. For a more detailed overview of optimizers and their development, we refer to [this educational blog post](https://ruder.io/optimizing-gradient-descent/).\n",
    "\n",
    "Besides SGD+Momentum (which is still used quite often and you should never discard it), the currently most used optimizer however is Adam. In comparison to SGD, it uses a first and second order momentum.\n",
    "\n",
    "<div class=\"alert alert-warning\">\n",
    "    <h3>Task: Check Code</h3>\n",
    "    <p>We have implemented Adam's update rule for you and you can check out the implementation in <code>exercise_code/networks/optimizer.py</code>.</p>\n",
    "</div>\n",
    "\n",
    "## 4.5 Optimizer Comparison\n",
    "\n",
    "Finally, let's compare our different optimization methods against each other on our small testing dataloader with shared parameters. That can take some time."
   ]
  },
  {
   "cell_type": "code",
   "execution_count": null,
   "metadata": {},
   "outputs": [],
   "source": [
    "learning_rate = 1e-3\n",
    "num_epochs = 20\n",
    "loss_func = CrossEntropyFromLogits()\n",
    "\n",
    "# Compute loss histories for all optimizers\n",
    "loss_histories = {}\n",
    "\n",
    "for name, optimizer in zip(['SGD', 'SGD+Momentum', 'Adam'], [SGD, SGDMomentum, Adam]):\n",
    "    print('Starting {}'.format(name))\n",
    "    # Reset model\n",
    "    model = ClassificationNet(input_size=input_size, \n",
    "                              hidden_size=128,\n",
    "                              activation=Relu(), \n",
    "                              num_layer=2, \n",
    "                              num_classes=10)\n",
    "    # Set up solver\n",
    "    solver = Solver(model, dataloader, dataloader, \n",
    "                    learning_rate=learning_rate, loss_func=loss_func,\n",
    "                    optimizer=optimizer)\n",
    "    solver.train(epochs=num_epochs)\n",
    "    # Save train history to plot later\n",
    "    loss_histories[name] = solver.train_loss_history\n",
    "    print()\n",
    "\n",
    "# Plot them in a shared plot\n",
    "for name in loss_histories:\n",
    "    plt.plot(loss_histories[name], '-', label=name)\n",
    "plt.legend(loc='lower right')\n",
    "plt.xlabel('Epochs')\n",
    "plt.ylabel('Loss')\n",
    "plt.show()"
   ]
  },
  {
   "cell_type": "markdown",
   "metadata": {},
   "source": [
    "Phew... that was a lot of work, but with this plot exercise 5 is done :).\n",
    "\n",
    "# 6. Outlook\n",
    "\n",
    "Should you always use Adam, as this single experiment using a fixed set of parameters suggests? How would you perform on unseen data using this network? Which network is the best?\n",
    "\n",
    "All of these questions have a shared conditions: **hyperparameters**! Basically everything we touched in this notebook is a hyperparameter for a deep learning task:\n",
    "- the network architecture,\n",
    "- data transformations,\n",
    "- optimizer,\n",
    "- and much more.\n",
    "\n",
    "But how do you choose good hyperparameters? They will not magically appear and since we are computer scientists we are alergic to excessive manual testing. Therefore, we will show ways to come up with them in an automated manner in our next exercise, so stay tuned :).\n",
    "\n",
    "# 7. Submission\n",
    "\n",
    "Simply run the following cell to create a zipped file for your implementations."
   ]
  },
  {
   "cell_type": "code",
   "execution_count": null,
   "metadata": {},
   "outputs": [],
   "source": [
    "from exercise_code.tests import save_pickle\n",
    "from exercise_code.networks.layer import *\n",
    "from exercise_code.networks.optimizer import SGDMomentum\n",
    "\n",
    "save_pickle(\n",
    "    data_dict={\n",
    "        \"SGD_Momentum_update\": SGDMomentum._update,\n",
    "        \"AffineForward\": affine_forward,\n",
    "        \"AffineBackward\": affine_backward,\n",
    "        \"Sigmoid\": Sigmoid,\n",
    "        \"Relu\": Relu,\n",
    "    },\n",
    "    file_name=\"NN.p\"\n",
    ")"
   ]
  },
  {
   "cell_type": "code",
   "execution_count": null,
   "metadata": {},
   "outputs": [],
   "source": [
    "from exercise_code.submit import submit_exercise\n",
    "\n",
    "\n",
    "submit_exercise('exercise05')"
   ]
  },
  {
   "cell_type": "markdown",
   "metadata": {},
   "source": [
    "# Submission Goals\n",
    "\n",
    "- Goals: Implement all implementation tasks.\n",
    "- Test cases: \n",
    "    1. Does `forward()` of `Sigmoid` layer return the correct value during forward pass?\n",
    "    2. Does `backward()` of `Sigmoid` layer return the correct value during backward pass?\n",
    "    3. Does `forward()` of `Relu` layer return the correct value during forward pass?\n",
    "    4. Does `backward()` of `Relu` layer return the correct value during backward pass?\n",
    "    5. Does `affine_forward()` return the correct value of `out`?\n",
    "    6. Does `affine_backward()` return the correct value of `dx`?\n",
    "    7. Does `affine_backward()` return the correct value of `dw`?\n",
    "    8. Does `affine_backward()` return the correct value of `db`?\n",
    "    9. Does `update()` of SGDMomentum return the correct weight values after update?\n",
    "    10. Does `update()` of SGDMomentum return the correct velocity values after update?\n",
    "\n",
    "- Reachable points [0, 100]: 0 if not implemented, 100 if all tests passed, 10 per passed test\n",
    "- Threshold to clear exercise: 100\n",
    "- Submission start: __Dec 03, 2020 13.00__\n",
    "- Submission deadline : __Dec 09, 2020 15.59__ \n",
    "- You can make multiple submission uptil the deadline. Your __best submission__ will be considered for bonus"
   ]
  },
  {
   "cell_type": "markdown",
   "metadata": {},
   "source": [
    "# 8. Feedback\n",
    "\n",
    "We strive to improve our lecture and exercises each semester. This time around, we only offer updated exercises and, since we changed quite some bit in the last two semesters, we are in dire need of your feedback!\n",
    "\n",
    "We obviously take posts on Piazza into account and there is also the general lecture feedback organized by the university but what we are usually missing are concrete issues or suggestions on what to fix for each exercise individually.\n",
    "\n",
    "We therefore created three links for our python exercises and it would be great if you'd spend some time filling out the following google forms. Also don't hesitate to duplicate issues that were already reported on Piazza, especially if it was a particular issue that really grinded your gears.\n",
    "\n",
    "Links:\n",
    "- [Exercise 3](https://docs.google.com/forms/d/e/1FAIpQLScqEBS-w_UoULQWIY3sYqAPF7vna3o0RvFq6eWIKlwseDpAXg/viewform)\n",
    "- [Exercise 4](https://docs.google.com/forms/d/e/1FAIpQLSdQ1MGokyD-aaALcvUBlPYFrWbQL7akP-Z0Ov7awDnciqbiOw/viewform)\n",
    "- [Exercise 5](https://docs.google.com/forms/d/e/1FAIpQLSf7Vjw_a0s-Z1BQvdEAkDtNANc3GfxwoTsJi2WiQissYPDchw/viewform)\n",
    "\n",
    "As for the global university lecture review:\n",
    "- Please use the comment boxes to provide some specific feedback\n",
    "- Do you like the current exercise format with a focus on (hopefully) well designed jupyter notebooks and minimal effort on actual video sessions? We will have a bigger focus on exercise videos once you start training your own networks starting in exercise 6."
   ]
  }
 ],
 "metadata": {
  "kernelspec": {
   "display_name": "Python 3",
   "language": "python",
   "name": "python3"
  },
  "language_info": {
   "codemirror_mode": {
    "name": "ipython",
    "version": 3
   },
   "file_extension": ".py",
   "mimetype": "text/x-python",
   "name": "python",
   "nbconvert_exporter": "python",
   "pygments_lexer": "ipython3",
   "version": "3.7.9"
  }
 },
 "nbformat": 4,
 "nbformat_minor": 2
}
