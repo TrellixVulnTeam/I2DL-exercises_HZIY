{
 "cells": [
  {
   "cell_type": "code",
   "execution_count": null,
   "metadata": {},
   "outputs": [],
   "source": [
    "model = MyOwnNetwork(activation=LeakyRelu(), num_layer=2,\n",
    "                 input_size=3 * 32 * 32, hidden_size=100,\n",
    "                 std=1e-3, num_classes=10, reg=0)\n",
    "epoch = 5\n",
    "\n",
    "Training accuray: 0.53432\n",
    "Validation accuray: 0.47596"
   ]
  },
  {
   "cell_type": "code",
   "execution_count": null,
   "metadata": {},
   "outputs": [],
   "source": [
    "epochs = 10\n",
    "patience = 1\n",
    "\n",
    "model = MyOwnNetwork(activation=LeakyRelu(), num_layer=2,\n",
    "                 input_size=3 * 32 * 32, hidden_size=100,\n",
    "                 std=1e-3, num_classes=10, reg=0)\n",
    "\n",
    "Training accuray: 0.59428\n",
    "Validation accuray: 0.48868"
   ]
  },
  {
   "cell_type": "code",
   "execution_count": null,
   "metadata": {},
   "outputs": [],
   "source": [
    "epochs = 10\n",
    "patience = 1\n",
    "\n",
    "model = MyOwnNetwork(activation=LeakyRelu(), num_layer=2,\n",
    "                 input_size=3 * 32 * 32, hidden_size=150,\n",
    "                 std=1e-3, num_classes=10, reg=0)\n",
    "\n",
    "Training accuray: 0.60794\n",
    "Validation accuray: 0.48357"
   ]
  },
  {
   "cell_type": "code",
   "execution_count": null,
   "metadata": {},
   "outputs": [],
   "source": [
    "epochs = 10\n",
    "patience = 1\n",
    "print(results)\n",
    "\n",
    "model = MyOwnNetwork(activation=LeakyRelu(), num_layer=2,\n",
    "                 input_size=3 * 32 * 32, hidden_size=150,\n",
    "                 std=1e-3, num_classes=10, reg=0)\n",
    "\n",
    "Training accuray: 0.57168\n",
    "Validation accuray: 0.48197"
   ]
  },
  {
   "cell_type": "code",
   "execution_count": null,
   "metadata": {},
   "outputs": [],
   "source": [
    "epochs = 10\n",
    "patience = 1\n",
    "\n",
    "model = MyOwnNetwork(activation=LeakyRelu(), num_layer=2,\n",
    "                 input_size=3 * 32 * 32, hidden_size=150,\n",
    "                 std=1e-3, num_classes=10, reg=0)\n",
    "solver = Solver(model, train_loader, dataloaders['val'], \n",
    "                learning_rate=5e-4, loss_func=loss, optimizer=Adam)\n",
    "\n",
    "Training accuray: 0.57676\n",
    "Validation accuray: 0.48908"
   ]
  },
  {
   "cell_type": "code",
   "execution_count": null,
   "metadata": {},
   "outputs": [],
   "source": [
    "epochs = 10\n",
    "patience = 1\n",
    "\n",
    "model = MyOwnNetwork(activation=LeakyRelu(), num_layer=2,\n",
    "                 input_size=3 * 32 * 32, hidden_size=150,\n",
    "                 std=1e-3, num_classes=10, reg=1e-6)\n",
    "solver = Solver(model, train_loader, dataloaders['val'], \n",
    "                learning_rate=5e-4, loss_func=loss, optimizer=Adam)\n",
    "\n",
    "Training accuray: 0.58908\n",
    "Validation accuray: 0.49249"
   ]
  },
  {
   "cell_type": "code",
   "execution_count": null,
   "metadata": {},
   "outputs": [],
   "source": [
    "epochs = 10\n",
    "patience = 1\n",
    "\n",
    "model = MyOwnNetwork(activation=LeakyRelu(), num_layer=2,\n",
    "                 input_size=3 * 32 * 32, hidden_size=150,\n",
    "                 std=1e-3, num_classes=10, reg=1e-6)\n",
    "solver = Solver(model, train_loader, dataloaders['val'], \n",
    "                learning_rate=3e-4, loss_func=loss, optimizer=Adam)\n",
    "\n",
    "Training accuray: 0.55966\n",
    "Validation accuray: 0.48177"
   ]
  },
  {
   "cell_type": "code",
   "execution_count": null,
   "metadata": {},
   "outputs": [],
   "source": [
    "epochs = 15\n",
    "patience = 1\n",
    "\n",
    "model = MyOwnNetwork(activation=LeakyRelu(), num_layer=2,\n",
    "                 input_size=3 * 32 * 32, hidden_size=150,\n",
    "                 std=1e-3, num_classes=10, reg=1e-6)\n",
    "solver = Solver(model, train_loader, dataloaders['val'], \n",
    "                learning_rate=3e-4, loss_func=loss, optimizer=Adam)\n",
    "\n",
    "Training accuray: 0.59255\n",
    "Validation accuray: 0.49269"
   ]
  },
  {
   "cell_type": "code",
   "execution_count": null,
   "metadata": {},
   "outputs": [],
   "source": [
    "epochs = 10\n",
    "patience = 1\n",
    "\n",
    "model = MyOwnNetwork(activation=LeakyRelu(), num_layer=2,\n",
    "                 input_size=3 * 32 * 32, hidden_size=500,\n",
    "                 std=1e-3, num_classes=10, reg=1e-6)\n",
    "solver = Solver(model, train_loader, dataloaders['val'], \n",
    "                learning_rate=5e-4, loss_func=loss, optimizer=Adam)\n",
    "\n",
    "Training accuray: 0.65829\n",
    "Validation accuray: 0.50371"
   ]
  }
 ],
 "metadata": {
  "kernelspec": {
   "display_name": "Python 3",
   "language": "python",
   "name": "python3"
  },
  "language_info": {
   "codemirror_mode": {
    "name": "ipython",
    "version": 3
   },
   "file_extension": ".py",
   "mimetype": "text/x-python",
   "name": "python",
   "nbconvert_exporter": "python",
   "pygments_lexer": "ipython3",
   "version": "3.7.9"
  }
 },
 "nbformat": 4,
 "nbformat_minor": 2
}
